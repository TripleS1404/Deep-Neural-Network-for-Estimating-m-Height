{
  "nbformat": 4,
  "nbformat_minor": 0,
  "metadata": {
    "colab": {
      "provenance": []
    },
    "kernelspec": {
      "name": "python3",
      "display_name": "Python 3"
    },
    "language_info": {
      "name": "python"
    }
  },
  "cells": [
    {
      "cell_type": "code",
      "execution_count": null,
      "metadata": {
        "id": "h1PYCV6qOQX1"
      },
      "outputs": [],
      "source": [
        "import torch\n",
        "import torch.nn as nn\n",
        "import torch.optim as optim\n",
        "from torch.utils.data import DataLoader, Dataset\n",
        "from torchvision import datasets, transforms\n",
        "import numpy as np\n",
        "import matplotlib.pyplot as plt"
      ]
    },
    {
      "cell_type": "code",
      "source": [
        "from sklearn.model_selection import train_test_split"
      ],
      "metadata": {
        "id": "YxMKqLMbOiu-"
      },
      "execution_count": null,
      "outputs": []
    },
    {
      "cell_type": "code",
      "source": [
        "class HeightEstimation(nn.Module):\n",
        "  def __init__(self,inp_dim):\n",
        "    super().__init__()\n",
        "    self.model=nn.Sequential(\n",
        "        nn.Linear(inp_dim,256),\n",
        "        nn.ReLU(),\n",
        "        nn.Linear(256,128),\n",
        "        nn.ReLU(),\n",
        "        nn.Linear(128,64),\n",
        "        nn.ReLU(),\n",
        "        nn.Linear(64,1)\n",
        "\n",
        "    )\n",
        "  def forward(self,x):\n",
        "    return self.model(x)+1.0"
      ],
      "metadata": {
        "id": "eldlfs-1SZw3"
      },
      "execution_count": null,
      "outputs": []
    },
    {
      "cell_type": "code",
      "source": [
        "def datasetgeneration(n,k,m,no_of_samples=1000):\n",
        "  x=[]\n",
        "  y=[]\n",
        "\n",
        "  for _ in range(no_of_samples):\n",
        "    P=np.random.uniform(-100,100,size=(k,n-k))\n",
        "    P_flat=P.flatten()\n",
        "\n",
        "    inp_features=np.concatenate(([n,k,m],P_flat))\n",
        "    hm_value=np.random.uniform(1,20)\n",
        "\n",
        "    x.append(inp_features)\n",
        "    y.append(hm_value)\n",
        "\n",
        "  return np.array(x),np.array(y)"
      ],
      "metadata": {
        "id": "msBbioDTa5a9"
      },
      "execution_count": null,
      "outputs": []
    },
    {
      "cell_type": "code",
      "source": [
        "def trainmodel(n, k, m, epochs=30):\n",
        "    x, y = datasetgeneration(n, k, m, no_of_samples=2000)\n",
        "    x_train, x_test, y_train, y_test = train_test_split(x, y, test_size=0.25)\n",
        "\n",
        "    # Convert to tensors and ensure proper shapes [N,1]\n",
        "    train_x = torch.tensor(x_train, dtype=torch.float32)\n",
        "    test_x = torch.tensor(x_test, dtype=torch.float32)\n",
        "    train_y = torch.tensor(y_train, dtype=torch.float32).unsqueeze(1)  # [N,1]\n",
        "    test_y = torch.tensor(y_test, dtype=torch.float32).unsqueeze(1)    # [N,1]\n",
        "\n",
        "    # Create DataLoaders\n",
        "    train_loader = DataLoader(list(zip(train_x, train_y)), batch_size=32, shuffle=True)\n",
        "    test_loader = DataLoader(list(zip(test_x, test_y)), batch_size=32)\n",
        "\n",
        "    input_dim = x.shape[1]\n",
        "    model = HeightEstimation(input_dim)\n",
        "    optimizer = optim.Adam(model.parameters(), lr=0.001)\n",
        "    criterion = nn.MSELoss()\n",
        "\n",
        "    losses = []\n",
        "    for epoch in range(epochs):\n",
        "        model.train()\n",
        "        running_loss = 0.0\n",
        "\n",
        "        for x, y in train_loader:\n",
        "            optimizer.zero_grad()\n",
        "\n",
        "            pred = model(x)\n",
        "            pred = torch.clamp(pred, min=1e-6)  # Prevent ≤ 0\n",
        "            loss = criterion(torch.log2(pred), torch.log2(y))\n",
        "\n",
        "            loss.backward()  # Fixed: added ()\n",
        "            optimizer.step()\n",
        "\n",
        "            running_loss += loss.item()\n",
        "\n",
        "        avg_loss = running_loss / len(train_loader)\n",
        "        losses.append(avg_loss)\n",
        "        print(f\"Epoch {epoch+1}/{epochs}, Loss: {avg_loss:.4f}\")\n",
        "\n",
        "    plt.plot(losses)\n",
        "    plt.xlabel(\"Epoch\")\n",
        "    plt.ylabel(\"Loss\")\n",
        "    plt.title(\"Training Loss\")\n",
        "    plt.show()\n",
        "    return model, test_loader"
      ],
      "metadata": {
        "id": "0ps0q2DNkxbm"
      },
      "execution_count": null,
      "outputs": []
    },
    {
      "cell_type": "code",
      "source": [
        "def evaluate_model(model,test_loader):\n",
        "  model.eval()\n",
        "  y_preds=[]\n",
        "  y_true=[]\n",
        "\n",
        "  with torch.no_grad():\n",
        "    for x,y in test_loader:\n",
        "      pred=model(x)\n",
        "      y_preds.append(pred.numpy())\n",
        "      y_true.append(y.numpy())\n",
        "\n",
        "  y_preds=np.vstack(y_preds)\n",
        "  y_true=np.vstack(y_true)\n",
        "\n",
        "  cost=np.mean((np.log2(y_true)-np.log2(y_preds))**2)\n",
        "  print(f\"Cost:={cost:.6f}\")\n",
        "  return y_preds,y_true\n"
      ],
      "metadata": {
        "id": "vbfab38NshQZ"
      },
      "execution_count": null,
      "outputs": []
    },
    {
      "cell_type": "code",
      "source": [
        "model, test_loader = trainmodel(n=9, k=4, m=2)"
      ],
      "metadata": {
        "colab": {
          "base_uri": "https://localhost:8080/",
          "height": 993
        },
        "id": "eqY4rjr_FEZm",
        "outputId": "25020a92-7288-40ea-e81e-3a3681507a3a"
      },
      "execution_count": null,
      "outputs": [
        {
          "output_type": "stream",
          "name": "stdout",
          "text": [
            "Epoch 1/30, Loss: 4.8532\n",
            "Epoch 2/30, Loss: 1.0827\n",
            "Epoch 3/30, Loss: 1.0370\n",
            "Epoch 4/30, Loss: 1.0003\n",
            "Epoch 5/30, Loss: 0.9659\n",
            "Epoch 6/30, Loss: 0.9240\n",
            "Epoch 7/30, Loss: 0.8575\n",
            "Epoch 8/30, Loss: 0.8075\n",
            "Epoch 9/30, Loss: 0.7362\n",
            "Epoch 10/30, Loss: 0.6363\n",
            "Epoch 11/30, Loss: 0.6138\n",
            "Epoch 12/30, Loss: 0.6345\n",
            "Epoch 13/30, Loss: 0.6630\n",
            "Epoch 14/30, Loss: 0.8569\n",
            "Epoch 15/30, Loss: 0.5262\n",
            "Epoch 16/30, Loss: 0.8781\n",
            "Epoch 17/30, Loss: 0.5761\n",
            "Epoch 18/30, Loss: 0.4168\n",
            "Epoch 19/30, Loss: 0.6602\n",
            "Epoch 20/30, Loss: 0.7923\n",
            "Epoch 21/30, Loss: 0.3844\n",
            "Epoch 22/30, Loss: 0.7962\n",
            "Epoch 23/30, Loss: 0.4200\n",
            "Epoch 24/30, Loss: 0.3787\n",
            "Epoch 25/30, Loss: 0.5057\n",
            "Epoch 26/30, Loss: 0.3288\n",
            "Epoch 27/30, Loss: 0.2464\n",
            "Epoch 28/30, Loss: 0.4577\n",
            "Epoch 29/30, Loss: 0.2639\n",
            "Epoch 30/30, Loss: 0.4660\n"
          ]
        },
        {
          "output_type": "display_data",
          "data": {
            "text/plain": [
              "<Figure size 640x480 with 1 Axes>"
            ],
            "image/png": "[encoded data removed]"
          },
          "metadata": {}
        }
      ]
    }
  ]
}